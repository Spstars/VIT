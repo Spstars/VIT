{
 "cells": [
  {
   "cell_type": "code",
   "execution_count": 1,
   "metadata": {},
   "outputs": [],
   "source": [
    "import os\n",
    "import pandas as pd\n",
    "\n",
    "onlyWolf = pd.read_csv('./data/imagewoof2/noisy_imagewoof.csv')"
   ]
  },
  {
   "cell_type": "code",
   "execution_count": 3,
   "metadata": {},
   "outputs": [
    {
     "name": "stdout",
     "output_type": "stream",
     "text": [
      "./data/imagewoof2\\train/n02115641/n02115641_3995.JPEG\n"
     ]
    }
   ],
   "source": [
    "dir =\"./data/imagewoof2\"\n",
    "img_name = os.path.join(dir,onlyWolf.iloc[0, 0])\n",
    "print(img_name)"
   ]
  },
  {
   "cell_type": "code",
   "execution_count": 2,
   "metadata": {},
   "outputs": [],
   "source": [
    "import torchvision.models as models\n",
    "from transformers import ViTModel,ViTConfig\n",
    "\n",
    "model = ViTModel.from_pretrained('google/vit-base-patch16-224-in21k')"
   ]
  },
  {
   "cell_type": "code",
   "execution_count": 3,
   "metadata": {},
   "outputs": [],
   "source": [
    "import torch\n",
    "\n",
    "torch.save(model.state_dict(),\"pretrained_weight.pth\")"
   ]
  },
  {
   "cell_type": "code",
   "execution_count": 5,
   "metadata": {},
   "outputs": [
    {
     "name": "stderr",
     "output_type": "stream",
     "text": [
      "Some weights of ViTModel were not initialized from the model checkpoint at google/vit-base-patch16-224-in21k and are newly initialized because the shapes did not match:\n",
      "- embeddings.position_embeddings: found shape torch.Size([1, 197, 768]) in the checkpoint and torch.Size([1, 3201, 768]) in the model instantiated\n",
      "You should probably TRAIN this model on a down-stream task to be able to use it for predictions and inference.\n"
     ]
    }
   ],
   "source": [
    "import torch\n",
    "import torch.nn as nn\n",
    "from torchvision.transforms import Resize, Compose\n",
    "from transformers import ViTModel, ViTConfig\n",
    "\n",
    "# ViT configuration\n",
    "config = ViTConfig.from_pretrained('google/vit-base-patch16-224-in21k')  # 이미지넷으로 사전 학습된 모델의 configuration 불러오기\n",
    "\n",
    "# 이미지 크기와 관련된 configuration 설정\n",
    "config.image_size = (800, 1024)  # 이미지 크기 설정\n",
    "config.num_patches = (800// 32) * (1024 // 32)  # 패치 개수 재설정\n",
    "# 이미지넷으로 사전 학습된 모델의 가중치 불러오기\n",
    "model = ViTModel.from_pretrained('google/vit-base-patch16-224-in21k', config=config,ignore_mismatched_sizes=True)\n",
    "\n",
    "# 이미지 전처리\n",
    "transform = Compose([Resize(config.image_size)])\n",
    "\n",
    "\n"
   ]
  },
  {
   "cell_type": "code",
   "execution_count": null,
   "metadata": {},
   "outputs": [],
   "source": [
    "from torch.utils.data import Dataset, DataLoader\n",
    "from torchvision.transforms import ToTensor, ToPILImage,Resize\n",
    "from PIL import Image\n",
    "import numpy as np\n",
    "import torch\n",
    "import pandas as pd\n",
    "class lonelyWolfDataset(Dataset):\n",
    "    \"\"\"\n",
    "    Load data from ./data/imagewoof2 \n",
    "    read_csv file first.\n",
    "    \"\"\"\n",
    "    def __init__(self, csv_file=\"./data/imagewoof2/noisy_imagewoof.csv\", root_dir = \"./data/imagewoof2\", transform=None,is_valid = False,num_label = 10) -> None:\n",
    "        super().__init__()\n",
    "        df = pd.read_csv(csv_file)\n",
    "        self.inform =  df[df['is_valid']== is_valid]\n",
    "        self.root_dir = root_dir\n",
    "        self.transform = transform\n",
    "        self.is_valid = is_valid\n",
    "        self.mapper = {}\n",
    "    def __len__(self):\n",
    "        return  len(self.inform)\n",
    "    \n",
    "    def __getitem__(self, idx):\n",
    "        if torch.is_tensor(idx):\n",
    "            idx = idx.tolist()\n",
    "        img_name = self.root_dir+\"/\"+self.inform.iloc[idx, 0]\n",
    "        image = Image.open(img_name).convert(\"RGB\")\n",
    "        toTensor = ToTensor()\n",
    "        reSize = Resize(size=(800,1024),)\n",
    "        image = reSize(toTensor(image))\n",
    "        #defalut dict 같은것 써도 무방\n",
    "        label=0\n",
    "        if self.inform.iloc[idx,1] in self.mapper:\n",
    "            label = self.mapper[self.inform.iloc[idx,1]]\n",
    "        else:\n",
    "            label= len(self.mapper)\n",
    "            self.mapper[self.inform.iloc[idx,1]] = label\n",
    "        \n",
    "        sample = {'image': image, 'label': label}\n",
    "\n",
    "        return sample\n",
    "    "
   ]
  }
 ],
 "metadata": {
  "kernelspec": {
   "display_name": "Python 3",
   "language": "python",
   "name": "python3"
  },
  "language_info": {
   "codemirror_mode": {
    "name": "ipython",
    "version": 3
   },
   "file_extension": ".py",
   "mimetype": "text/x-python",
   "name": "python",
   "nbconvert_exporter": "python",
   "pygments_lexer": "ipython3",
   "version": "3.12.2"
  }
 },
 "nbformat": 4,
 "nbformat_minor": 2
}
